{
 "cells": [
  {
   "cell_type": "code",
   "execution_count": 1,
   "id": "053ca5d3",
   "metadata": {},
   "outputs": [],
   "source": [
    "import pandas as pd"
   ]
  },
  {
   "cell_type": "code",
   "execution_count": 2,
   "id": "c37cc7fb",
   "metadata": {},
   "outputs": [],
   "source": [
    "#Objetivo --> meter los clusters también aquí"
   ]
  },
  {
   "cell_type": "code",
   "execution_count": 3,
   "id": "70d00de4",
   "metadata": {},
   "outputs": [],
   "source": [
    "a = pd.read_csv(\"../data/perros_por_grupos_de_caracteristicas.csv\")"
   ]
  },
  {
   "cell_type": "code",
   "execution_count": 4,
   "id": "37467501",
   "metadata": {},
   "outputs": [],
   "source": [
    "b = pd.read_csv(\"../data/grupos.csv\")"
   ]
  },
  {
   "cell_type": "code",
   "execution_count": 5,
   "id": "fb6aa1c7",
   "metadata": {},
   "outputs": [
    {
     "data": {
      "text/html": [
       "<div>\n",
       "<style scoped>\n",
       "    .dataframe tbody tr th:only-of-type {\n",
       "        vertical-align: middle;\n",
       "    }\n",
       "\n",
       "    .dataframe tbody tr th {\n",
       "        vertical-align: top;\n",
       "    }\n",
       "\n",
       "    .dataframe thead th {\n",
       "        text-align: right;\n",
       "    }\n",
       "</style>\n",
       "<table border=\"1\" class=\"dataframe\">\n",
       "  <thead>\n",
       "    <tr style=\"text-align: right;\">\n",
       "      <th></th>\n",
       "      <th>grupetes</th>\n",
       "    </tr>\n",
       "  </thead>\n",
       "  <tbody>\n",
       "    <tr>\n",
       "      <th>0</th>\n",
       "      <td>2</td>\n",
       "    </tr>\n",
       "    <tr>\n",
       "      <th>1</th>\n",
       "      <td>1</td>\n",
       "    </tr>\n",
       "    <tr>\n",
       "      <th>2</th>\n",
       "      <td>1</td>\n",
       "    </tr>\n",
       "    <tr>\n",
       "      <th>3</th>\n",
       "      <td>0</td>\n",
       "    </tr>\n",
       "    <tr>\n",
       "      <th>4</th>\n",
       "      <td>2</td>\n",
       "    </tr>\n",
       "    <tr>\n",
       "      <th>...</th>\n",
       "      <td>...</td>\n",
       "    </tr>\n",
       "    <tr>\n",
       "      <th>376</th>\n",
       "      <td>0</td>\n",
       "    </tr>\n",
       "    <tr>\n",
       "      <th>377</th>\n",
       "      <td>1</td>\n",
       "    </tr>\n",
       "    <tr>\n",
       "      <th>378</th>\n",
       "      <td>0</td>\n",
       "    </tr>\n",
       "    <tr>\n",
       "      <th>379</th>\n",
       "      <td>1</td>\n",
       "    </tr>\n",
       "    <tr>\n",
       "      <th>380</th>\n",
       "      <td>1</td>\n",
       "    </tr>\n",
       "  </tbody>\n",
       "</table>\n",
       "<p>381 rows × 1 columns</p>\n",
       "</div>"
      ],
      "text/plain": [
       "     grupetes\n",
       "0           2\n",
       "1           1\n",
       "2           1\n",
       "3           0\n",
       "4           2\n",
       "..        ...\n",
       "376         0\n",
       "377         1\n",
       "378         0\n",
       "379         1\n",
       "380         1\n",
       "\n",
       "[381 rows x 1 columns]"
      ]
     },
     "execution_count": 5,
     "metadata": {},
     "output_type": "execute_result"
    }
   ],
   "source": [
    "b"
   ]
  },
  {
   "cell_type": "code",
   "execution_count": 6,
   "id": "e07d642f",
   "metadata": {},
   "outputs": [],
   "source": [
    "a[\"Groups\"]= b"
   ]
  },
  {
   "cell_type": "code",
   "execution_count": 7,
   "id": "fe21afaf",
   "metadata": {},
   "outputs": [],
   "source": [
    "a.to_csv(\"../data/a_super_def.csv\", index = False)"
   ]
  },
  {
   "cell_type": "code",
   "execution_count": 8,
   "id": "2eb6b7d3",
   "metadata": {},
   "outputs": [],
   "source": [
    "hola = pd.read_csv(\"../data/a_super_def.csv\")"
   ]
  },
  {
   "cell_type": "code",
   "execution_count": 9,
   "id": "6da5243a",
   "metadata": {},
   "outputs": [
    {
     "data": {
      "text/html": [
       "<div>\n",
       "<style scoped>\n",
       "    .dataframe tbody tr th:only-of-type {\n",
       "        vertical-align: middle;\n",
       "    }\n",
       "\n",
       "    .dataframe tbody tr th {\n",
       "        vertical-align: top;\n",
       "    }\n",
       "\n",
       "    .dataframe thead th {\n",
       "        text-align: right;\n",
       "    }\n",
       "</style>\n",
       "<table border=\"1\" class=\"dataframe\">\n",
       "  <thead>\n",
       "    <tr style=\"text-align: right;\">\n",
       "      <th></th>\n",
       "      <th>Name</th>\n",
       "      <th>Adapts Well To Apartment Living</th>\n",
       "      <th>Good For Novice Owners</th>\n",
       "      <th>Sensitivity Level</th>\n",
       "      <th>Tolerates Being Alone</th>\n",
       "      <th>Tolerates Cold Weather</th>\n",
       "      <th>Tolerates Hot Weather</th>\n",
       "      <th>Affectionate With Family</th>\n",
       "      <th>Kid-Friendly</th>\n",
       "      <th>Dog Friendly</th>\n",
       "      <th>...</th>\n",
       "      <th>Tendency To Bark Or Howl</th>\n",
       "      <th>Wanderlust Potential</th>\n",
       "      <th>Energy Level</th>\n",
       "      <th>Intensity</th>\n",
       "      <th>Exercise Needs</th>\n",
       "      <th>Potential For Playfulness</th>\n",
       "      <th>Behaviour</th>\n",
       "      <th>b_physical</th>\n",
       "      <th>g_physical</th>\n",
       "      <th>Groups</th>\n",
       "    </tr>\n",
       "  </thead>\n",
       "  <tbody>\n",
       "    <tr>\n",
       "      <th>0</th>\n",
       "      <td>Afador</td>\n",
       "      <td>1</td>\n",
       "      <td>1</td>\n",
       "      <td>3</td>\n",
       "      <td>3</td>\n",
       "      <td>4</td>\n",
       "      <td>2</td>\n",
       "      <td>4</td>\n",
       "      <td>2</td>\n",
       "      <td>3</td>\n",
       "      <td>...</td>\n",
       "      <td>4</td>\n",
       "      <td>4</td>\n",
       "      <td>4</td>\n",
       "      <td>4</td>\n",
       "      <td>4</td>\n",
       "      <td>3</td>\n",
       "      <td>2.0</td>\n",
       "      <td>4.0</td>\n",
       "      <td>4.0</td>\n",
       "      <td>2</td>\n",
       "    </tr>\n",
       "    <tr>\n",
       "      <th>1</th>\n",
       "      <td>Affenhuahua</td>\n",
       "      <td>4</td>\n",
       "      <td>4</td>\n",
       "      <td>4</td>\n",
       "      <td>1</td>\n",
       "      <td>2</td>\n",
       "      <td>3</td>\n",
       "      <td>4</td>\n",
       "      <td>3</td>\n",
       "      <td>2</td>\n",
       "      <td>...</td>\n",
       "      <td>4</td>\n",
       "      <td>2</td>\n",
       "      <td>4</td>\n",
       "      <td>3</td>\n",
       "      <td>3</td>\n",
       "      <td>3</td>\n",
       "      <td>3.0</td>\n",
       "      <td>3.0</td>\n",
       "      <td>3.0</td>\n",
       "      <td>1</td>\n",
       "    </tr>\n",
       "    <tr>\n",
       "      <th>2</th>\n",
       "      <td>Affenpinscher</td>\n",
       "      <td>5</td>\n",
       "      <td>4</td>\n",
       "      <td>3</td>\n",
       "      <td>1</td>\n",
       "      <td>3</td>\n",
       "      <td>3</td>\n",
       "      <td>5</td>\n",
       "      <td>1</td>\n",
       "      <td>4</td>\n",
       "      <td>...</td>\n",
       "      <td>2</td>\n",
       "      <td>2</td>\n",
       "      <td>4</td>\n",
       "      <td>3</td>\n",
       "      <td>3</td>\n",
       "      <td>4</td>\n",
       "      <td>3.0</td>\n",
       "      <td>2.0</td>\n",
       "      <td>3.0</td>\n",
       "      <td>1</td>\n",
       "    </tr>\n",
       "    <tr>\n",
       "      <th>3</th>\n",
       "      <td>Afghan Hound</td>\n",
       "      <td>5</td>\n",
       "      <td>3</td>\n",
       "      <td>5</td>\n",
       "      <td>2</td>\n",
       "      <td>5</td>\n",
       "      <td>5</td>\n",
       "      <td>5</td>\n",
       "      <td>5</td>\n",
       "      <td>4</td>\n",
       "      <td>...</td>\n",
       "      <td>2</td>\n",
       "      <td>5</td>\n",
       "      <td>5</td>\n",
       "      <td>2</td>\n",
       "      <td>4</td>\n",
       "      <td>4</td>\n",
       "      <td>4.0</td>\n",
       "      <td>2.0</td>\n",
       "      <td>4.0</td>\n",
       "      <td>0</td>\n",
       "    </tr>\n",
       "  </tbody>\n",
       "</table>\n",
       "<p>4 rows × 31 columns</p>\n",
       "</div>"
      ],
      "text/plain": [
       "            Name  Adapts Well To Apartment Living  Good For Novice Owners  \\\n",
       "0         Afador                                1                       1   \n",
       "1    Affenhuahua                                4                       4   \n",
       "2  Affenpinscher                                5                       4   \n",
       "3   Afghan Hound                                5                       3   \n",
       "\n",
       "   Sensitivity Level  Tolerates Being Alone  Tolerates Cold Weather  \\\n",
       "0                  3                      3                       4   \n",
       "1                  4                      1                       2   \n",
       "2                  3                      1                       3   \n",
       "3                  5                      2                       5   \n",
       "\n",
       "   Tolerates Hot Weather  Affectionate With Family  Kid-Friendly  \\\n",
       "0                      2                         4             2   \n",
       "1                      3                         4             3   \n",
       "2                      3                         5             1   \n",
       "3                      5                         5             5   \n",
       "\n",
       "   Dog Friendly  ...  Tendency To Bark Or Howl  Wanderlust Potential  \\\n",
       "0             3  ...                         4                     4   \n",
       "1             2  ...                         4                     2   \n",
       "2             4  ...                         2                     2   \n",
       "3             4  ...                         2                     5   \n",
       "\n",
       "   Energy Level  Intensity  Exercise Needs  Potential For Playfulness  \\\n",
       "0             4          4               4                          3   \n",
       "1             4          3               3                          3   \n",
       "2             4          3               3                          4   \n",
       "3             5          2               4                          4   \n",
       "\n",
       "   Behaviour  b_physical  g_physical  Groups  \n",
       "0        2.0         4.0         4.0       2  \n",
       "1        3.0         3.0         3.0       1  \n",
       "2        3.0         2.0         3.0       1  \n",
       "3        4.0         2.0         4.0       0  \n",
       "\n",
       "[4 rows x 31 columns]"
      ]
     },
     "execution_count": 9,
     "metadata": {},
     "output_type": "execute_result"
    }
   ],
   "source": [
    "a.head(4)"
   ]
  },
  {
   "cell_type": "code",
   "execution_count": 10,
   "id": "11bcdd09",
   "metadata": {},
   "outputs": [
    {
     "data": {
      "text/plain": [
       "Index(['Name', 'Adapts Well To Apartment Living', 'Good For Novice Owners',\n",
       "       'Sensitivity Level', 'Tolerates Being Alone', 'Tolerates Cold Weather',\n",
       "       'Tolerates Hot Weather', 'Affectionate With Family', 'Kid-Friendly',\n",
       "       'Dog Friendly', 'Friendly Toward Strangers', 'Amount Of Shedding',\n",
       "       'Drooling Potential', 'Easy To Groom', 'General Health',\n",
       "       'Potential For Weight Gain', 'Size', 'Easy To Train', 'Intelligence',\n",
       "       'Potential For Mouthiness', 'Prey Drive', 'Tendency To Bark Or Howl',\n",
       "       'Wanderlust Potential', 'Energy Level', 'Intensity', 'Exercise Needs',\n",
       "       'Potential For Playfulness', 'Behaviour', 'b_physical', 'g_physical',\n",
       "       'Groups'],\n",
       "      dtype='object')"
      ]
     },
     "execution_count": 10,
     "metadata": {},
     "output_type": "execute_result"
    }
   ],
   "source": [
    "a.columns"
   ]
  },
  {
   "cell_type": "code",
   "execution_count": 11,
   "id": "908d6197",
   "metadata": {},
   "outputs": [],
   "source": [
    "a = a.sort_values('Behaviour', ascending = False)"
   ]
  },
  {
   "cell_type": "code",
   "execution_count": 13,
   "id": "96eccba2",
   "metadata": {},
   "outputs": [
    {
     "name": "stdout",
     "output_type": "stream",
     "text": [
      "¿De qué tamaño te gustaría adoptar tu pero?: Grande, Mediano, Pequeño\n",
      "Grande\n",
      "¿Eres alérgicx al pelo de perro?: Sí/ No\n",
      "No\n",
      "¿Cuánto tiempo tienes para pasear? Mucho/Intermedio/Poco\n",
      "Poco\n",
      "¿Tienes hijos pequeños? Sí/No\n",
      "No\n",
      "¿Tienes ya otro perro? Sí/No\n",
      "No\n"
     ]
    }
   ],
   "source": [
    "print(\"¿De qué tamaño te gustaría adoptar tu pero?: Grande, Mediano, Pequeño\")\n",
    "size = input()\n",
    "\n",
    "\n",
    "#Primer filtro --> Tamaño\n",
    "if size == \"Grande\":\n",
    "    tamano = [4,5]\n",
    "elif size == \"Mediano\":\n",
    "    tamano = [3]\n",
    "else:\n",
    "    tamano = [1,2]\n",
    "volumen = a[a.Size.isin(tamano)]\n",
    "\n",
    "\n",
    "#Segundo filtro --> Pelo\n",
    "print(\"¿Eres alérgicx al pelo de perro?: Sí/ No\")\n",
    "alergia = input()\n",
    "if alergia == \"Sí\":\n",
    "    pelo = [1,2]\n",
    "else: \n",
    "    pelo = [1,2,3,4,5]    \n",
    "pelete = volumen[volumen['Amount Of Shedding'].isin(pelo)]\n",
    "\n",
    "\n",
    "#Tercer filtro --> Tiempo para pasear \n",
    "print(\"¿Cuánto tiempo tienes para pasear? Mucho/Intermedio/Poco\")\n",
    "tiempo = input()\n",
    "if tiempo == \"Mucho\":\n",
    "      horas = [1,2,3,4,5]\n",
    "elif tiempo == \"Intermedio\":\n",
    "      horas = [1,2,3]\n",
    "else:\n",
    "      horas = [1,2]        \n",
    "paseo = pelete[pelete['Exercise Needs'].isin(horas)]\n",
    "\n",
    "\n",
    "#Cuarto filtro --> Hijos pequeños \n",
    "print(\"¿Tienes hijos pequeños? Sí/No\")\n",
    "ninos = input()\n",
    "if ninos == \"Sí\":\n",
    "    hijo = [4,5]\n",
    "else:\n",
    "    hijo = [1,2,3,4,5]        \n",
    "nino = paseo[paseo['Kid-Friendly'].isin(hijo)]\n",
    "\n",
    "#Quinto filtro --> Otros perretes\n",
    "print(\"¿Tienes ya otro perro? Sí/No\")\n",
    "perros_otro = input()\n",
    "if perros_otro == \"Sí\":\n",
    "    otro = [4,5]\n",
    "else:\n",
    "    otro = [1,2,3,4,5]        \n",
    "perro = nino[nino['Dog Friendly'].isin(otro)]\n"
   ]
  },
  {
   "cell_type": "code",
   "execution_count": 14,
   "id": "f1050264",
   "metadata": {},
   "outputs": [
    {
     "data": {
      "text/html": [
       "<div>\n",
       "<style scoped>\n",
       "    .dataframe tbody tr th:only-of-type {\n",
       "        vertical-align: middle;\n",
       "    }\n",
       "\n",
       "    .dataframe tbody tr th {\n",
       "        vertical-align: top;\n",
       "    }\n",
       "\n",
       "    .dataframe thead th {\n",
       "        text-align: right;\n",
       "    }\n",
       "</style>\n",
       "<table border=\"1\" class=\"dataframe\">\n",
       "  <thead>\n",
       "    <tr style=\"text-align: right;\">\n",
       "      <th></th>\n",
       "      <th>Name</th>\n",
       "      <th>Adapts Well To Apartment Living</th>\n",
       "      <th>Good For Novice Owners</th>\n",
       "      <th>Sensitivity Level</th>\n",
       "      <th>Tolerates Being Alone</th>\n",
       "      <th>Tolerates Cold Weather</th>\n",
       "      <th>Tolerates Hot Weather</th>\n",
       "      <th>Affectionate With Family</th>\n",
       "      <th>Kid-Friendly</th>\n",
       "      <th>Dog Friendly</th>\n",
       "      <th>...</th>\n",
       "      <th>Tendency To Bark Or Howl</th>\n",
       "      <th>Wanderlust Potential</th>\n",
       "      <th>Energy Level</th>\n",
       "      <th>Intensity</th>\n",
       "      <th>Exercise Needs</th>\n",
       "      <th>Potential For Playfulness</th>\n",
       "      <th>Behaviour</th>\n",
       "      <th>b_physical</th>\n",
       "      <th>g_physical</th>\n",
       "      <th>Groups</th>\n",
       "    </tr>\n",
       "  </thead>\n",
       "  <tbody>\n",
       "    <tr>\n",
       "      <th>73</th>\n",
       "      <td>Borzoi</td>\n",
       "      <td>5</td>\n",
       "      <td>3</td>\n",
       "      <td>5</td>\n",
       "      <td>1</td>\n",
       "      <td>4</td>\n",
       "      <td>3</td>\n",
       "      <td>4</td>\n",
       "      <td>3</td>\n",
       "      <td>4</td>\n",
       "      <td>...</td>\n",
       "      <td>2</td>\n",
       "      <td>4</td>\n",
       "      <td>2</td>\n",
       "      <td>2</td>\n",
       "      <td>2</td>\n",
       "      <td>3</td>\n",
       "      <td>4.0</td>\n",
       "      <td>3.0</td>\n",
       "      <td>3.0</td>\n",
       "      <td>1</td>\n",
       "    </tr>\n",
       "    <tr>\n",
       "      <th>360</th>\n",
       "      <td>Tibetan Mastiff</td>\n",
       "      <td>1</td>\n",
       "      <td>1</td>\n",
       "      <td>5</td>\n",
       "      <td>1</td>\n",
       "      <td>5</td>\n",
       "      <td>2</td>\n",
       "      <td>5</td>\n",
       "      <td>5</td>\n",
       "      <td>5</td>\n",
       "      <td>...</td>\n",
       "      <td>2</td>\n",
       "      <td>3</td>\n",
       "      <td>4</td>\n",
       "      <td>2</td>\n",
       "      <td>2</td>\n",
       "      <td>5</td>\n",
       "      <td>3.0</td>\n",
       "      <td>3.0</td>\n",
       "      <td>4.0</td>\n",
       "      <td>2</td>\n",
       "    </tr>\n",
       "    <tr>\n",
       "      <th>318</th>\n",
       "      <td>Saint Bernard</td>\n",
       "      <td>3</td>\n",
       "      <td>2</td>\n",
       "      <td>4</td>\n",
       "      <td>1</td>\n",
       "      <td>5</td>\n",
       "      <td>1</td>\n",
       "      <td>5</td>\n",
       "      <td>5</td>\n",
       "      <td>5</td>\n",
       "      <td>...</td>\n",
       "      <td>1</td>\n",
       "      <td>2</td>\n",
       "      <td>3</td>\n",
       "      <td>2</td>\n",
       "      <td>2</td>\n",
       "      <td>4</td>\n",
       "      <td>3.0</td>\n",
       "      <td>4.0</td>\n",
       "      <td>3.0</td>\n",
       "      <td>2</td>\n",
       "    </tr>\n",
       "    <tr>\n",
       "      <th>4</th>\n",
       "      <td>Akbash</td>\n",
       "      <td>1</td>\n",
       "      <td>2</td>\n",
       "      <td>3</td>\n",
       "      <td>4</td>\n",
       "      <td>4</td>\n",
       "      <td>2</td>\n",
       "      <td>5</td>\n",
       "      <td>4</td>\n",
       "      <td>3</td>\n",
       "      <td>...</td>\n",
       "      <td>3</td>\n",
       "      <td>1</td>\n",
       "      <td>2</td>\n",
       "      <td>2</td>\n",
       "      <td>2</td>\n",
       "      <td>3</td>\n",
       "      <td>3.0</td>\n",
       "      <td>3.0</td>\n",
       "      <td>3.0</td>\n",
       "      <td>2</td>\n",
       "    </tr>\n",
       "  </tbody>\n",
       "</table>\n",
       "<p>4 rows × 31 columns</p>\n",
       "</div>"
      ],
      "text/plain": [
       "                Name  Adapts Well To Apartment Living  Good For Novice Owners  \\\n",
       "73            Borzoi                                5                       3   \n",
       "360  Tibetan Mastiff                                1                       1   \n",
       "318    Saint Bernard                                3                       2   \n",
       "4             Akbash                                1                       2   \n",
       "\n",
       "     Sensitivity Level  Tolerates Being Alone  Tolerates Cold Weather  \\\n",
       "73                   5                      1                       4   \n",
       "360                  5                      1                       5   \n",
       "318                  4                      1                       5   \n",
       "4                    3                      4                       4   \n",
       "\n",
       "     Tolerates Hot Weather  Affectionate With Family  Kid-Friendly  \\\n",
       "73                       3                         4             3   \n",
       "360                      2                         5             5   \n",
       "318                      1                         5             5   \n",
       "4                        2                         5             4   \n",
       "\n",
       "     Dog Friendly  ...  Tendency To Bark Or Howl  Wanderlust Potential  \\\n",
       "73              4  ...                         2                     4   \n",
       "360             5  ...                         2                     3   \n",
       "318             5  ...                         1                     2   \n",
       "4               3  ...                         3                     1   \n",
       "\n",
       "     Energy Level  Intensity  Exercise Needs  Potential For Playfulness  \\\n",
       "73              2          2               2                          3   \n",
       "360             4          2               2                          5   \n",
       "318             3          2               2                          4   \n",
       "4               2          2               2                          3   \n",
       "\n",
       "     Behaviour  b_physical  g_physical  Groups  \n",
       "73         4.0         3.0         3.0       1  \n",
       "360        3.0         3.0         4.0       2  \n",
       "318        3.0         4.0         3.0       2  \n",
       "4          3.0         3.0         3.0       2  \n",
       "\n",
       "[4 rows x 31 columns]"
      ]
     },
     "execution_count": 14,
     "metadata": {},
     "output_type": "execute_result"
    }
   ],
   "source": [
    "perro.head(4)"
   ]
  },
  {
   "cell_type": "code",
   "execution_count": 15,
   "id": "71618c0f",
   "metadata": {},
   "outputs": [
    {
     "data": {
      "text/plain": [
       "5"
      ]
     },
     "execution_count": 15,
     "metadata": {},
     "output_type": "execute_result"
    }
   ],
   "source": [
    "list(perro.head(1)[\"Size\"])[0]"
   ]
  },
  {
   "cell_type": "code",
   "execution_count": 18,
   "id": "b55ca9ac",
   "metadata": {},
   "outputs": [
    {
     "name": "stdout",
     "output_type": "stream",
     "text": [
      "si\n"
     ]
    }
   ],
   "source": [
    "numero_estrellas_tamano = (list(perro.head(1)[\"Size\"])[0])\n",
    "\n",
    "if numero_estrellas_tamano == 5:\n",
    "    print(\"si\")"
   ]
  },
  {
   "cell_type": "code",
   "execution_count": null,
   "id": "688c6e6e",
   "metadata": {
    "scrolled": true
   },
   "outputs": [],
   "source": [
    "lista = perro.head(4).Name.unique()\n",
    "c = len(lista)"
   ]
  },
  {
   "cell_type": "code",
   "execution_count": null,
   "id": "6ef18632",
   "metadata": {},
   "outputs": [],
   "source": [
    "lista"
   ]
  },
  {
   "cell_type": "code",
   "execution_count": null,
   "id": "074b10a6",
   "metadata": {},
   "outputs": [],
   "source": [
    "cluster = int(perro[perro[\"Name\"]== lista[0]].Groups)"
   ]
  },
  {
   "cell_type": "code",
   "execution_count": null,
   "id": "3d17a998",
   "metadata": {},
   "outputs": [],
   "source": [
    "type(cluster)\n",
    "cluster"
   ]
  },
  {
   "cell_type": "code",
   "execution_count": null,
   "id": "2bb67148",
   "metadata": {},
   "outputs": [],
   "source": [
    "eleccion = perro.loc[(perro.Groups == cluster)]"
   ]
  },
  {
   "cell_type": "code",
   "execution_count": null,
   "id": "ff00b6ac",
   "metadata": {},
   "outputs": [],
   "source": [
    "for i in range(0,c):\n",
    "    eleccion = eleccion[eleccion.Name != lista[i]]\n",
    "\n",
    "eleccion = eleccion.head(4)\n",
    "eleccion"
   ]
  },
  {
   "cell_type": "code",
   "execution_count": null,
   "id": "4756a612",
   "metadata": {},
   "outputs": [],
   "source": [
    "# por si no furula el filtro del filtro y cluster. Buscamos en el cluster pero sin el filtro \n",
    "\n",
    "eleccion2 = a.loc[(a.Groups == cluster)]"
   ]
  },
  {
   "cell_type": "code",
   "execution_count": null,
   "id": "fa29f462",
   "metadata": {
    "scrolled": true
   },
   "outputs": [],
   "source": [
    "for i in range(0,c):\n",
    "    eleccion2 = eleccion2[eleccion2.Name != lista[i]]\n",
    "\n",
    "eleccion2 = eleccion2.head(4)\n",
    "eleccion2"
   ]
  },
  {
   "cell_type": "code",
   "execution_count": null,
   "id": "7d1fffb1",
   "metadata": {},
   "outputs": [],
   "source": [
    "#disponibilidad de perretes para adoptar"
   ]
  },
  {
   "cell_type": "code",
   "execution_count": null,
   "id": "aac31790",
   "metadata": {},
   "outputs": [],
   "source": [
    "a.to_pickle(\"../CSV_y_materiales/definitivo.pkl\")"
   ]
  },
  {
   "cell_type": "code",
   "execution_count": null,
   "id": "34a508f9",
   "metadata": {},
   "outputs": [],
   "source": []
  }
 ],
 "metadata": {
  "kernelspec": {
   "display_name": "ironhack",
   "language": "python",
   "name": "ironhack"
  },
  "language_info": {
   "codemirror_mode": {
    "name": "ipython",
    "version": 3
   },
   "file_extension": ".py",
   "mimetype": "text/x-python",
   "name": "python",
   "nbconvert_exporter": "python",
   "pygments_lexer": "ipython3",
   "version": "3.8.5"
  }
 },
 "nbformat": 4,
 "nbformat_minor": 5
}
