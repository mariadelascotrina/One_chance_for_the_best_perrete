{
 "cells": [
  {
   "cell_type": "code",
   "execution_count": 34,
   "id": "8d9ede72",
   "metadata": {},
   "outputs": [],
   "source": [
    "#En este jupyter encontrarás la información clusterizada así como un análisis exploratorio de los datos\n"
   ]
  },
  {
   "cell_type": "code",
   "execution_count": 5,
   "id": "c15152aa",
   "metadata": {},
   "outputs": [],
   "source": [
    "import pandas as pd\n",
    "\n",
    "from sklearn.cluster import KMeans\n",
    "import seaborn as sns\n",
    "import matplotlib.pyplot as plt\n",
    "# El mantra\n",
    "%matplotlib inline\n",
    "%config Inlinebackend.figure_format= 'retina'\n",
    "sns.set_context(\"poster\")\n",
    "sns.set(rc={\"figure.figsize\": (12.,6.)})\n",
    "sns.set_style(\"whitegrid\")"
   ]
  },
  {
   "cell_type": "code",
   "execution_count": 6,
   "id": "ea8b8d72",
   "metadata": {},
   "outputs": [],
   "source": [
    "perretillos = pd.read_csv(\"../data/perretesint.csv\")"
   ]
  },
  {
   "cell_type": "markdown",
   "id": "7df48e46",
   "metadata": {},
   "source": [
    "# Vamos a hacer el Codo"
   ]
  },
  {
   "cell_type": "code",
   "execution_count": 7,
   "id": "f1244099",
   "metadata": {},
   "outputs": [],
   "source": [
    "perretessinnombre = perretillos.drop(\"Name\", axis=1)"
   ]
  },
  {
   "cell_type": "code",
   "execution_count": 8,
   "id": "1b815f75",
   "metadata": {},
   "outputs": [],
   "source": [
    "kmeans = [KMeans(n_clusters=i) for i in range(1,40)]\n",
    "for model in kmeans:\n",
    "    model.fit(perretessinnombre)"
   ]
  },
  {
   "cell_type": "code",
   "execution_count": 9,
   "id": "88952afb",
   "metadata": {},
   "outputs": [
    {
     "data": {
      "text/plain": [
       "[10701.133858267716, 9311.389553924339, 8596.82670196234]"
      ]
     },
     "execution_count": 9,
     "metadata": {},
     "output_type": "execute_result"
    }
   ],
   "source": [
    "inertias = [model.inertia_ for model in kmeans]\n",
    "inertias[:3]"
   ]
  },
  {
   "cell_type": "code",
   "execution_count": 10,
   "id": "b530baf9",
   "metadata": {},
   "outputs": [
    {
     "data": {
      "image/png": "[encoded data removed]",
      "text/plain": [
       "<Figure size 864x432 with 1 Axes>"
      ]
     },
     "metadata": {},
     "output_type": "display_data"
    }
   ],
   "source": [
    "plt.plot(range(1,40),inertias)\n",
    "plt.xticks(range(1,40));"
   ]
  },
  {
   "cell_type": "code",
   "execution_count": 11,
   "id": "72569143",
   "metadata": {},
   "outputs": [],
   "source": [
    "from sklearn.cluster import KMeans\n",
    "from sklearn.metrics import silhouette_score"
   ]
  },
  {
   "cell_type": "code",
   "execution_count": 12,
   "id": "df898c3c",
   "metadata": {},
   "outputs": [],
   "source": [
    "from sklearn.preprocessing import StandardScaler\n",
    "from sklearn.decomposition import PCA"
   ]
  },
  {
   "cell_type": "code",
   "execution_count": 13,
   "id": "b182139e",
   "metadata": {},
   "outputs": [
    {
     "data": {
      "text/plain": [
       "KMeans(n_clusters=13)"
      ]
     },
     "execution_count": 13,
     "metadata": {},
     "output_type": "execute_result"
    }
   ],
   "source": [
    "km = KMeans(n_clusters=13)\n",
    "km.fit(perretessinnombre)"
   ]
  },
  {
   "cell_type": "code",
   "execution_count": 14,
   "id": "dba601bd",
   "metadata": {},
   "outputs": [],
   "source": [
    "y_pred = km.predict(perretessinnombre)"
   ]
  },
  {
   "cell_type": "code",
   "execution_count": 15,
   "id": "ed4cf7d7",
   "metadata": {},
   "outputs": [],
   "source": [
    "perretessinnombre[\"predict\"] = y_pred"
   ]
  },
  {
   "cell_type": "code",
   "execution_count": 16,
   "id": "9a522802",
   "metadata": {},
   "outputs": [
    {
     "data": {
      "text/plain": [
       "array([ 1,  2,  8,  9, 11,  5,  4,  6, 12,  7,  3,  0, 10], dtype=int32)"
      ]
     },
     "execution_count": 16,
     "metadata": {},
     "output_type": "execute_result"
    }
   ],
   "source": [
    "perretessinnombre[\"predict\"].unique() "
   ]
  },
  {
   "cell_type": "code",
   "execution_count": 17,
   "id": "c48b374f",
   "metadata": {},
   "outputs": [],
   "source": [
    "perretessinpredict= perretessinnombre.drop(\"predict\", axis=1)"
   ]
  },
  {
   "cell_type": "code",
   "execution_count": 18,
   "id": "b9f7d475",
   "metadata": {},
   "outputs": [
    {
     "data": {
      "text/plain": [
       "0.06540003136829241"
      ]
     },
     "execution_count": 18,
     "metadata": {},
     "output_type": "execute_result"
    }
   ],
   "source": [
    "silhouette_score(perretessinpredict, y_pred)"
   ]
  },
  {
   "cell_type": "code",
   "execution_count": 19,
   "id": "0fa27acc",
   "metadata": {},
   "outputs": [],
   "source": [
    "#scalar y volver a probar"
   ]
  },
  {
   "cell_type": "code",
   "execution_count": 20,
   "id": "c0b0db8f",
   "metadata": {},
   "outputs": [],
   "source": [
    "dat_ = perretessinpredict.copy()"
   ]
  },
  {
   "cell_type": "markdown",
   "id": "be983240",
   "metadata": {},
   "source": [
    "# Escalamos datos"
   ]
  },
  {
   "cell_type": "code",
   "execution_count": 21,
   "id": "35d7b1cf",
   "metadata": {},
   "outputs": [],
   "source": [
    "scaler = StandardScaler()\n",
    "df_scaler = pd.DataFrame(scaler.fit_transform(dat_), columns=dat_.columns)"
   ]
  },
  {
   "cell_type": "code",
   "execution_count": 22,
   "id": "61dd0cb6",
   "metadata": {},
   "outputs": [],
   "source": [
    "kmeans = [KMeans(n_clusters=i) for i in range(1,21)]\n",
    "for model in kmeans:\n",
    "    model.fit(dat_)"
   ]
  },
  {
   "cell_type": "code",
   "execution_count": 23,
   "id": "8f07e64d",
   "metadata": {},
   "outputs": [
    {
     "data": {
      "text/plain": [
       "[10701.133858267716, 9311.389553924337, 8596.82670196234]"
      ]
     },
     "execution_count": 23,
     "metadata": {},
     "output_type": "execute_result"
    }
   ],
   "source": [
    "inertias = [model.inertia_ for model in kmeans]\n",
    "inertias[:3]"
   ]
  },
  {
   "cell_type": "code",
   "execution_count": 24,
   "id": "64b3dde8",
   "metadata": {},
   "outputs": [
    {
     "data": {
      "image/png": "[encoded data removed]",
      "text/plain": [
       "<Figure size 864x432 with 1 Axes>"
      ]
     },
     "metadata": {},
     "output_type": "display_data"
    }
   ],
   "source": [
    "plt.plot(range(1,21),inertias)\n",
    "plt.xticks(range(1,21));"
   ]
  },
  {
   "cell_type": "code",
   "execution_count": 25,
   "id": "6a469bae",
   "metadata": {},
   "outputs": [
    {
     "data": {
      "text/plain": [
       "KMeans(n_clusters=3)"
      ]
     },
     "execution_count": 25,
     "metadata": {},
     "output_type": "execute_result"
    }
   ],
   "source": [
    "\n",
    "kmestandar = KMeans(n_clusters=3)\n",
    "kmestandar.fit(dat_)"
   ]
  },
  {
   "cell_type": "code",
   "execution_count": 26,
   "id": "5c082df4",
   "metadata": {},
   "outputs": [],
   "source": [
    "y_yanose = kmestandar.predict(dat_)"
   ]
  },
  {
   "cell_type": "markdown",
   "id": "7b46d2c9",
   "metadata": {},
   "source": [
    "### Silueta datos estandarizados"
   ]
  },
  {
   "cell_type": "code",
   "execution_count": 27,
   "id": "47884923",
   "metadata": {},
   "outputs": [
    {
     "data": {
      "text/plain": [
       "0.10647169301083782"
      ]
     },
     "execution_count": 27,
     "metadata": {},
     "output_type": "execute_result"
    }
   ],
   "source": [
    "silhouette_score(dat_, y_yanose)"
   ]
  },
  {
   "cell_type": "markdown",
   "id": "d857aabc",
   "metadata": {},
   "source": [
    "# PCA DE 3"
   ]
  },
  {
   "cell_type": "code",
   "execution_count": 28,
   "id": "517cc3c6",
   "metadata": {},
   "outputs": [],
   "source": [
    "pecea2 = perretessinpredict.copy()"
   ]
  },
  {
   "cell_type": "code",
   "execution_count": 29,
   "id": "7fddf548",
   "metadata": {},
   "outputs": [],
   "source": [
    "pca = PCA(2)\n",
    "pecea_t2 = pd.DataFrame(pca.fit_transform(pecea2), columns=[\"PC1\", \"PC2\"] )"
   ]
  },
  {
   "cell_type": "code",
   "execution_count": 30,
   "id": "aca1f54e",
   "metadata": {},
   "outputs": [
    {
     "data": {
      "text/plain": [
       "KMeans(n_clusters=3)"
      ]
     },
     "execution_count": 30,
     "metadata": {},
     "output_type": "execute_result"
    }
   ],
   "source": [
    "km2 = KMeans(n_clusters=3)\n",
    "km2.fit(pecea_t2)"
   ]
  },
  {
   "cell_type": "code",
   "execution_count": 31,
   "id": "5fe1d00e",
   "metadata": {},
   "outputs": [],
   "source": [
    "y_pece = km2.predict(pecea_t2)"
   ]
  },
  {
   "cell_type": "code",
   "execution_count": 32,
   "id": "54e50b9a",
   "metadata": {},
   "outputs": [],
   "source": [
    "# Silueta datos PCA de 2"
   ]
  },
  {
   "cell_type": "code",
   "execution_count": 33,
   "id": "b23c1fbb",
   "metadata": {},
   "outputs": [
    {
     "data": {
      "text/plain": [
       "0.39209547891801255"
      ]
     },
     "execution_count": 33,
     "metadata": {},
     "output_type": "execute_result"
    }
   ],
   "source": [
    "silhouette_score(pecea_t2, y_pece)"
   ]
  },
  {
   "cell_type": "code",
   "execution_count": 34,
   "id": "ecbb2c90",
   "metadata": {},
   "outputs": [],
   "source": [
    "pecea_t2[\"grupetes\"] = y_pece"
   ]
  },
  {
   "cell_type": "code",
   "execution_count": 38,
   "id": "77d908c7",
   "metadata": {},
   "outputs": [
    {
     "name": "stderr",
     "output_type": "stream",
     "text": [
      "/home/mariadelas/anaconda3/envs/ironhack/lib/python3.8/site-packages/seaborn/_decorators.py:36: FutureWarning: Pass the following variables as keyword args: x, y. From version 0.12, the only valid positional argument will be `data`, and passing other arguments without an explicit keyword will result in an error or misinterpretation.\n",
      "  warnings.warn(\n"
     ]
    },
    {
     "data": {
      "image/png": "[encoded data removed]",
      "text/plain": [
       "<Figure size 864x432 with 1 Axes>"
      ]
     },
     "metadata": {},
     "output_type": "display_data"
    }
   ],
   "source": [
    "pca_perros2 = sns.scatterplot(pecea_t2[\"PC1\"],pecea_t2[\"PC2\"], hue=pecea_t2[\"grupetes\"],  palette=\"deep\");"
   ]
  },
  {
   "cell_type": "code",
   "execution_count": 28,
   "id": "1caa55aa",
   "metadata": {},
   "outputs": [
    {
     "data": {
      "text/plain": [
       "1    147\n",
       "0    141\n",
       "2     93\n",
       "Name: grupetes, dtype: int64"
      ]
     },
     "execution_count": 28,
     "metadata": {},
     "output_type": "execute_result"
    }
   ],
   "source": [
    "pecea_t2[\"grupetes\"].value_counts()"
   ]
  },
  {
   "cell_type": "code",
   "execution_count": 32,
   "id": "2867a2f3",
   "metadata": {},
   "outputs": [
    {
     "data": {
      "text/html": [
       "<div>\n",
       "<style scoped>\n",
       "    .dataframe tbody tr th:only-of-type {\n",
       "        vertical-align: middle;\n",
       "    }\n",
       "\n",
       "    .dataframe tbody tr th {\n",
       "        vertical-align: top;\n",
       "    }\n",
       "\n",
       "    .dataframe thead th {\n",
       "        text-align: right;\n",
       "    }\n",
       "</style>\n",
       "<table border=\"1\" class=\"dataframe\">\n",
       "  <thead>\n",
       "    <tr style=\"text-align: right;\">\n",
       "      <th></th>\n",
       "      <th>PC1</th>\n",
       "      <th>PC2</th>\n",
       "      <th>grupetes</th>\n",
       "    </tr>\n",
       "  </thead>\n",
       "  <tbody>\n",
       "    <tr>\n",
       "      <th>0</th>\n",
       "      <td>-3.422042</td>\n",
       "      <td>3.249127</td>\n",
       "      <td>2</td>\n",
       "    </tr>\n",
       "    <tr>\n",
       "      <th>1</th>\n",
       "      <td>3.156623</td>\n",
       "      <td>1.691132</td>\n",
       "      <td>1</td>\n",
       "    </tr>\n",
       "  </tbody>\n",
       "</table>\n",
       "</div>"
      ],
      "text/plain": [
       "        PC1       PC2  grupetes\n",
       "0 -3.422042  3.249127         2\n",
       "1  3.156623  1.691132         1"
      ]
     },
     "execution_count": 32,
     "metadata": {},
     "output_type": "execute_result"
    }
   ],
   "source": [
    "pecea_t2.head(2)"
   ]
  },
  {
   "cell_type": "code",
   "execution_count": 39,
   "id": "61e32775",
   "metadata": {},
   "outputs": [],
   "source": [
    "copia_para_exportar = pecea_t2.drop([\"PC1\",\"PC2\"], axis = 1)\n",
    "copia_para_exportar.to_csv(\"../CSV_y_materiales/grupos.csv\", index=False)"
   ]
  },
  {
   "cell_type": "code",
   "execution_count": 29,
   "id": "50f96c37",
   "metadata": {},
   "outputs": [],
   "source": [
    "perretillos[\"groups\"] = y_pece"
   ]
  },
  {
   "cell_type": "code",
   "execution_count": 170,
   "id": "a7c192bb",
   "metadata": {},
   "outputs": [],
   "source": [
    "a = perretillos.groups == 2"
   ]
  },
  {
   "cell_type": "code",
   "execution_count": 171,
   "id": "18a86d15",
   "metadata": {},
   "outputs": [],
   "source": [
    "columnassinnombre = ['Adapts Well To Apartment Living', 'Good For Novice Owners',\n",
    "       'Sensitivity Level', 'Tolerates Being Alone', 'Tolerates Cold Weather',\n",
    "       'Tolerates Hot Weather', 'Affectionate With Family', 'Kid-Friendly',\n",
    "       'Dog Friendly', 'Friendly Toward Strangers', 'Amount Of Shedding',\n",
    "       'Drooling Potential', 'Easy To Groom', 'General Health',\n",
    "       'Potential For Weight Gain', 'Size', 'Easy To Train', 'Intelligence',\n",
    "       'Potential For Mouthiness', 'Prey Drive', 'Tendency To Bark Or Howl',\n",
    "       'Wanderlust Potential', 'Energy Level', 'Intensity', 'Exercise Needs',\n",
    "       'Potential For Playfulness', 'grupetes']"
   ]
  },
  {
   "cell_type": "code",
   "execution_count": 172,
   "id": "2890a149",
   "metadata": {},
   "outputs": [
    {
     "data": {
      "text/plain": [
       "27"
      ]
     },
     "execution_count": 172,
     "metadata": {},
     "output_type": "execute_result"
    }
   ],
   "source": [
    "len(columnassinnombre)"
   ]
  },
  {
   "cell_type": "code",
   "execution_count": 173,
   "id": "d4dfef7d",
   "metadata": {},
   "outputs": [],
   "source": [
    "#Agrupar por columnas"
   ]
  },
  {
   "cell_type": "code",
   "execution_count": 41,
   "id": "5b300d38",
   "metadata": {},
   "outputs": [
    {
     "data": {
      "text/html": [
       "<div>\n",
       "<style scoped>\n",
       "    .dataframe tbody tr th:only-of-type {\n",
       "        vertical-align: middle;\n",
       "    }\n",
       "\n",
       "    .dataframe tbody tr th {\n",
       "        vertical-align: top;\n",
       "    }\n",
       "\n",
       "    .dataframe thead th {\n",
       "        text-align: right;\n",
       "    }\n",
       "</style>\n",
       "<table border=\"1\" class=\"dataframe\">\n",
       "  <thead>\n",
       "    <tr style=\"text-align: right;\">\n",
       "      <th></th>\n",
       "      <th>Name</th>\n",
       "      <th>Adapts Well To Apartment Living</th>\n",
       "      <th>Good For Novice Owners</th>\n",
       "      <th>Sensitivity Level</th>\n",
       "      <th>Tolerates Being Alone</th>\n",
       "      <th>Tolerates Cold Weather</th>\n",
       "      <th>Tolerates Hot Weather</th>\n",
       "      <th>Affectionate With Family</th>\n",
       "      <th>Kid-Friendly</th>\n",
       "      <th>Dog Friendly</th>\n",
       "      <th>...</th>\n",
       "      <th>Intelligence</th>\n",
       "      <th>Potential For Mouthiness</th>\n",
       "      <th>Prey Drive</th>\n",
       "      <th>Tendency To Bark Or Howl</th>\n",
       "      <th>Wanderlust Potential</th>\n",
       "      <th>Energy Level</th>\n",
       "      <th>Intensity</th>\n",
       "      <th>Exercise Needs</th>\n",
       "      <th>Potential For Playfulness</th>\n",
       "      <th>groups</th>\n",
       "    </tr>\n",
       "  </thead>\n",
       "  <tbody>\n",
       "    <tr>\n",
       "      <th>0</th>\n",
       "      <td>Afador</td>\n",
       "      <td>1</td>\n",
       "      <td>1</td>\n",
       "      <td>3</td>\n",
       "      <td>3</td>\n",
       "      <td>4</td>\n",
       "      <td>2</td>\n",
       "      <td>4</td>\n",
       "      <td>2</td>\n",
       "      <td>3</td>\n",
       "      <td>...</td>\n",
       "      <td>5</td>\n",
       "      <td>4</td>\n",
       "      <td>4</td>\n",
       "      <td>4</td>\n",
       "      <td>4</td>\n",
       "      <td>4</td>\n",
       "      <td>4</td>\n",
       "      <td>4</td>\n",
       "      <td>3</td>\n",
       "      <td>2</td>\n",
       "    </tr>\n",
       "    <tr>\n",
       "      <th>1</th>\n",
       "      <td>Affenhuahua</td>\n",
       "      <td>4</td>\n",
       "      <td>4</td>\n",
       "      <td>4</td>\n",
       "      <td>1</td>\n",
       "      <td>2</td>\n",
       "      <td>3</td>\n",
       "      <td>4</td>\n",
       "      <td>3</td>\n",
       "      <td>2</td>\n",
       "      <td>...</td>\n",
       "      <td>3</td>\n",
       "      <td>4</td>\n",
       "      <td>2</td>\n",
       "      <td>4</td>\n",
       "      <td>2</td>\n",
       "      <td>4</td>\n",
       "      <td>3</td>\n",
       "      <td>3</td>\n",
       "      <td>3</td>\n",
       "      <td>1</td>\n",
       "    </tr>\n",
       "    <tr>\n",
       "      <th>2</th>\n",
       "      <td>Affenpinscher</td>\n",
       "      <td>5</td>\n",
       "      <td>4</td>\n",
       "      <td>3</td>\n",
       "      <td>1</td>\n",
       "      <td>3</td>\n",
       "      <td>3</td>\n",
       "      <td>5</td>\n",
       "      <td>1</td>\n",
       "      <td>4</td>\n",
       "      <td>...</td>\n",
       "      <td>4</td>\n",
       "      <td>4</td>\n",
       "      <td>3</td>\n",
       "      <td>2</td>\n",
       "      <td>2</td>\n",
       "      <td>4</td>\n",
       "      <td>3</td>\n",
       "      <td>3</td>\n",
       "      <td>4</td>\n",
       "      <td>1</td>\n",
       "    </tr>\n",
       "    <tr>\n",
       "      <th>3</th>\n",
       "      <td>Afghan Hound</td>\n",
       "      <td>5</td>\n",
       "      <td>3</td>\n",
       "      <td>5</td>\n",
       "      <td>2</td>\n",
       "      <td>5</td>\n",
       "      <td>5</td>\n",
       "      <td>5</td>\n",
       "      <td>5</td>\n",
       "      <td>4</td>\n",
       "      <td>...</td>\n",
       "      <td>4</td>\n",
       "      <td>3</td>\n",
       "      <td>5</td>\n",
       "      <td>2</td>\n",
       "      <td>5</td>\n",
       "      <td>5</td>\n",
       "      <td>2</td>\n",
       "      <td>4</td>\n",
       "      <td>4</td>\n",
       "      <td>0</td>\n",
       "    </tr>\n",
       "  </tbody>\n",
       "</table>\n",
       "<p>4 rows × 28 columns</p>\n",
       "</div>"
      ],
      "text/plain": [
       "            Name  Adapts Well To Apartment Living  Good For Novice Owners  \\\n",
       "0         Afador                                1                       1   \n",
       "1    Affenhuahua                                4                       4   \n",
       "2  Affenpinscher                                5                       4   \n",
       "3   Afghan Hound                                5                       3   \n",
       "\n",
       "   Sensitivity Level  Tolerates Being Alone  Tolerates Cold Weather  \\\n",
       "0                  3                      3                       4   \n",
       "1                  4                      1                       2   \n",
       "2                  3                      1                       3   \n",
       "3                  5                      2                       5   \n",
       "\n",
       "   Tolerates Hot Weather  Affectionate With Family  Kid-Friendly  \\\n",
       "0                      2                         4             2   \n",
       "1                      3                         4             3   \n",
       "2                      3                         5             1   \n",
       "3                      5                         5             5   \n",
       "\n",
       "   Dog Friendly  ...  Intelligence  Potential For Mouthiness  Prey Drive  \\\n",
       "0             3  ...             5                         4           4   \n",
       "1             2  ...             3                         4           2   \n",
       "2             4  ...             4                         4           3   \n",
       "3             4  ...             4                         3           5   \n",
       "\n",
       "   Tendency To Bark Or Howl  Wanderlust Potential  Energy Level  Intensity  \\\n",
       "0                         4                     4             4          4   \n",
       "1                         4                     2             4          3   \n",
       "2                         2                     2             4          3   \n",
       "3                         2                     5             5          2   \n",
       "\n",
       "   Exercise Needs  Potential For Playfulness  groups  \n",
       "0               4                          3       2  \n",
       "1               3                          3       1  \n",
       "2               3                          4       1  \n",
       "3               4                          4       0  \n",
       "\n",
       "[4 rows x 28 columns]"
      ]
     },
     "execution_count": 41,
     "metadata": {},
     "output_type": "execute_result"
    }
   ],
   "source": [
    "perretillos.head(4)"
   ]
  },
  {
   "cell_type": "code",
   "execution_count": 175,
   "id": "b2e99660",
   "metadata": {},
   "outputs": [],
   "source": [
    "perretillos[\"Adaptation\"]= round(perretillos[['Adapts Well To Apartment Living', 'Good For Novice Owners','Sensitivity Level', 'Tolerates Being Alone', 'Tolerates Cold Weather', 'Tolerates Hot Weather']].mean(axis=1),0)"
   ]
  },
  {
   "cell_type": "code",
   "execution_count": 176,
   "id": "0c955b26",
   "metadata": {},
   "outputs": [],
   "source": [
    "perretillos[\"Afecttion\"]= round(perretillos[['Affectionate With Family', 'Kid-Friendly','Dog Friendly', 'Friendly Toward Strangers']].mean(axis=1),0)"
   ]
  },
  {
   "cell_type": "code",
   "execution_count": 177,
   "id": "26bfff77",
   "metadata": {},
   "outputs": [],
   "source": [
    " perretillos[\"Health & Gruming\"]= round(perretillos[['Amount Of Shedding', 'Drooling Potential', 'Easy To Groom', 'General Health',\n",
    "'Potential For Weight Gain', 'Size']].mean(axis=1),0)"
   ]
  },
  {
   "cell_type": "code",
   "execution_count": 178,
   "id": "f8eca8e6",
   "metadata": {},
   "outputs": [],
   "source": [
    "perretillos[\"Trainability\"]= round(perretillos[['Easy To Train', 'Intelligence',\n",
    "       'Potential For Mouthiness', 'Prey Drive', 'Tendency To Bark Or Howl',\n",
    "       'Wanderlust Potential']].mean(axis=1),0)"
   ]
  },
  {
   "cell_type": "code",
   "execution_count": 179,
   "id": "80bb1ea7",
   "metadata": {},
   "outputs": [],
   "source": [
    "perretillos[\"Physical Needs\"]= round(perretillos[['Energy Level', 'Intensity', 'Exercise Needs',\n",
    "       'Potential For Playfulness']].mean(axis=1),0)"
   ]
  },
  {
   "cell_type": "code",
   "execution_count": 180,
   "id": "b2eeb9b8",
   "metadata": {},
   "outputs": [
    {
     "data": {
      "text/html": [
       "<div>\n",
       "<style scoped>\n",
       "    .dataframe tbody tr th:only-of-type {\n",
       "        vertical-align: middle;\n",
       "    }\n",
       "\n",
       "    .dataframe tbody tr th {\n",
       "        vertical-align: top;\n",
       "    }\n",
       "\n",
       "    .dataframe thead th {\n",
       "        text-align: right;\n",
       "    }\n",
       "</style>\n",
       "<table border=\"1\" class=\"dataframe\">\n",
       "  <thead>\n",
       "    <tr style=\"text-align: right;\">\n",
       "      <th></th>\n",
       "      <th>Name</th>\n",
       "      <th>Adapts Well To Apartment Living</th>\n",
       "      <th>Good For Novice Owners</th>\n",
       "      <th>Sensitivity Level</th>\n",
       "      <th>Tolerates Being Alone</th>\n",
       "      <th>Tolerates Cold Weather</th>\n",
       "      <th>Tolerates Hot Weather</th>\n",
       "      <th>Affectionate With Family</th>\n",
       "      <th>Kid-Friendly</th>\n",
       "      <th>Dog Friendly</th>\n",
       "      <th>...</th>\n",
       "      <th>Energy Level</th>\n",
       "      <th>Intensity</th>\n",
       "      <th>Exercise Needs</th>\n",
       "      <th>Potential For Playfulness</th>\n",
       "      <th>groups</th>\n",
       "      <th>Adaptation</th>\n",
       "      <th>Afecttion</th>\n",
       "      <th>Health &amp; Gruming</th>\n",
       "      <th>Trainability</th>\n",
       "      <th>Physical Needs</th>\n",
       "    </tr>\n",
       "  </thead>\n",
       "  <tbody>\n",
       "    <tr>\n",
       "      <th>0</th>\n",
       "      <td>Afador</td>\n",
       "      <td>1</td>\n",
       "      <td>1</td>\n",
       "      <td>3</td>\n",
       "      <td>3</td>\n",
       "      <td>4</td>\n",
       "      <td>2</td>\n",
       "      <td>4</td>\n",
       "      <td>2</td>\n",
       "      <td>3</td>\n",
       "      <td>...</td>\n",
       "      <td>4</td>\n",
       "      <td>4</td>\n",
       "      <td>4</td>\n",
       "      <td>3</td>\n",
       "      <td>2</td>\n",
       "      <td>2.0</td>\n",
       "      <td>2.0</td>\n",
       "      <td>3.0</td>\n",
       "      <td>4.0</td>\n",
       "      <td>4.0</td>\n",
       "    </tr>\n",
       "    <tr>\n",
       "      <th>1</th>\n",
       "      <td>Affenhuahua</td>\n",
       "      <td>4</td>\n",
       "      <td>4</td>\n",
       "      <td>4</td>\n",
       "      <td>1</td>\n",
       "      <td>2</td>\n",
       "      <td>3</td>\n",
       "      <td>4</td>\n",
       "      <td>3</td>\n",
       "      <td>2</td>\n",
       "      <td>...</td>\n",
       "      <td>4</td>\n",
       "      <td>3</td>\n",
       "      <td>3</td>\n",
       "      <td>3</td>\n",
       "      <td>0</td>\n",
       "      <td>3.0</td>\n",
       "      <td>3.0</td>\n",
       "      <td>3.0</td>\n",
       "      <td>3.0</td>\n",
       "      <td>3.0</td>\n",
       "    </tr>\n",
       "    <tr>\n",
       "      <th>2</th>\n",
       "      <td>Affenpinscher</td>\n",
       "      <td>5</td>\n",
       "      <td>4</td>\n",
       "      <td>3</td>\n",
       "      <td>1</td>\n",
       "      <td>3</td>\n",
       "      <td>3</td>\n",
       "      <td>5</td>\n",
       "      <td>1</td>\n",
       "      <td>4</td>\n",
       "      <td>...</td>\n",
       "      <td>4</td>\n",
       "      <td>3</td>\n",
       "      <td>3</td>\n",
       "      <td>4</td>\n",
       "      <td>0</td>\n",
       "      <td>3.0</td>\n",
       "      <td>3.0</td>\n",
       "      <td>2.0</td>\n",
       "      <td>3.0</td>\n",
       "      <td>4.0</td>\n",
       "    </tr>\n",
       "    <tr>\n",
       "      <th>3</th>\n",
       "      <td>Afghan Hound</td>\n",
       "      <td>5</td>\n",
       "      <td>3</td>\n",
       "      <td>5</td>\n",
       "      <td>2</td>\n",
       "      <td>5</td>\n",
       "      <td>5</td>\n",
       "      <td>5</td>\n",
       "      <td>5</td>\n",
       "      <td>4</td>\n",
       "      <td>...</td>\n",
       "      <td>5</td>\n",
       "      <td>2</td>\n",
       "      <td>4</td>\n",
       "      <td>4</td>\n",
       "      <td>1</td>\n",
       "      <td>4.0</td>\n",
       "      <td>4.0</td>\n",
       "      <td>2.0</td>\n",
       "      <td>3.0</td>\n",
       "      <td>4.0</td>\n",
       "    </tr>\n",
       "    <tr>\n",
       "      <th>4</th>\n",
       "      <td>Akbash</td>\n",
       "      <td>1</td>\n",
       "      <td>2</td>\n",
       "      <td>3</td>\n",
       "      <td>4</td>\n",
       "      <td>4</td>\n",
       "      <td>2</td>\n",
       "      <td>5</td>\n",
       "      <td>4</td>\n",
       "      <td>3</td>\n",
       "      <td>...</td>\n",
       "      <td>2</td>\n",
       "      <td>2</td>\n",
       "      <td>2</td>\n",
       "      <td>3</td>\n",
       "      <td>2</td>\n",
       "      <td>3.0</td>\n",
       "      <td>4.0</td>\n",
       "      <td>4.0</td>\n",
       "      <td>2.0</td>\n",
       "      <td>2.0</td>\n",
       "    </tr>\n",
       "    <tr>\n",
       "      <th>...</th>\n",
       "      <td>...</td>\n",
       "      <td>...</td>\n",
       "      <td>...</td>\n",
       "      <td>...</td>\n",
       "      <td>...</td>\n",
       "      <td>...</td>\n",
       "      <td>...</td>\n",
       "      <td>...</td>\n",
       "      <td>...</td>\n",
       "      <td>...</td>\n",
       "      <td>...</td>\n",
       "      <td>...</td>\n",
       "      <td>...</td>\n",
       "      <td>...</td>\n",
       "      <td>...</td>\n",
       "      <td>...</td>\n",
       "      <td>...</td>\n",
       "      <td>...</td>\n",
       "      <td>...</td>\n",
       "      <td>...</td>\n",
       "      <td>...</td>\n",
       "    </tr>\n",
       "    <tr>\n",
       "      <th>376</th>\n",
       "      <td>Wirehaired Pointing Griffon</td>\n",
       "      <td>1</td>\n",
       "      <td>3</td>\n",
       "      <td>4</td>\n",
       "      <td>1</td>\n",
       "      <td>4</td>\n",
       "      <td>3</td>\n",
       "      <td>5</td>\n",
       "      <td>5</td>\n",
       "      <td>4</td>\n",
       "      <td>...</td>\n",
       "      <td>5</td>\n",
       "      <td>3</td>\n",
       "      <td>4</td>\n",
       "      <td>5</td>\n",
       "      <td>1</td>\n",
       "      <td>3.0</td>\n",
       "      <td>5.0</td>\n",
       "      <td>2.0</td>\n",
       "      <td>4.0</td>\n",
       "      <td>4.0</td>\n",
       "    </tr>\n",
       "    <tr>\n",
       "      <th>377</th>\n",
       "      <td>Xoloitzcuintli</td>\n",
       "      <td>5</td>\n",
       "      <td>1</td>\n",
       "      <td>5</td>\n",
       "      <td>1</td>\n",
       "      <td>3</td>\n",
       "      <td>3</td>\n",
       "      <td>5</td>\n",
       "      <td>3</td>\n",
       "      <td>2</td>\n",
       "      <td>...</td>\n",
       "      <td>3</td>\n",
       "      <td>3</td>\n",
       "      <td>3</td>\n",
       "      <td>3</td>\n",
       "      <td>0</td>\n",
       "      <td>3.0</td>\n",
       "      <td>3.0</td>\n",
       "      <td>3.0</td>\n",
       "      <td>4.0</td>\n",
       "      <td>3.0</td>\n",
       "    </tr>\n",
       "    <tr>\n",
       "      <th>378</th>\n",
       "      <td>Yakutian Laika</td>\n",
       "      <td>1</td>\n",
       "      <td>3</td>\n",
       "      <td>3</td>\n",
       "      <td>1</td>\n",
       "      <td>5</td>\n",
       "      <td>3</td>\n",
       "      <td>5</td>\n",
       "      <td>4</td>\n",
       "      <td>4</td>\n",
       "      <td>...</td>\n",
       "      <td>4</td>\n",
       "      <td>3</td>\n",
       "      <td>5</td>\n",
       "      <td>4</td>\n",
       "      <td>1</td>\n",
       "      <td>3.0</td>\n",
       "      <td>4.0</td>\n",
       "      <td>3.0</td>\n",
       "      <td>3.0</td>\n",
       "      <td>4.0</td>\n",
       "    </tr>\n",
       "    <tr>\n",
       "      <th>379</th>\n",
       "      <td>Yorkipoo</td>\n",
       "      <td>5</td>\n",
       "      <td>5</td>\n",
       "      <td>4</td>\n",
       "      <td>3</td>\n",
       "      <td>2</td>\n",
       "      <td>3</td>\n",
       "      <td>5</td>\n",
       "      <td>4</td>\n",
       "      <td>3</td>\n",
       "      <td>...</td>\n",
       "      <td>5</td>\n",
       "      <td>3</td>\n",
       "      <td>3</td>\n",
       "      <td>4</td>\n",
       "      <td>0</td>\n",
       "      <td>4.0</td>\n",
       "      <td>4.0</td>\n",
       "      <td>2.0</td>\n",
       "      <td>4.0</td>\n",
       "      <td>4.0</td>\n",
       "    </tr>\n",
       "    <tr>\n",
       "      <th>380</th>\n",
       "      <td>Yorkshire Terrier</td>\n",
       "      <td>5</td>\n",
       "      <td>4</td>\n",
       "      <td>5</td>\n",
       "      <td>2</td>\n",
       "      <td>2</td>\n",
       "      <td>2</td>\n",
       "      <td>4</td>\n",
       "      <td>2</td>\n",
       "      <td>3</td>\n",
       "      <td>...</td>\n",
       "      <td>5</td>\n",
       "      <td>4</td>\n",
       "      <td>4</td>\n",
       "      <td>5</td>\n",
       "      <td>0</td>\n",
       "      <td>3.0</td>\n",
       "      <td>3.0</td>\n",
       "      <td>2.0</td>\n",
       "      <td>3.0</td>\n",
       "      <td>4.0</td>\n",
       "    </tr>\n",
       "  </tbody>\n",
       "</table>\n",
       "<p>381 rows × 33 columns</p>\n",
       "</div>"
      ],
      "text/plain": [
       "                            Name  Adapts Well To Apartment Living  \\\n",
       "0                         Afador                                1   \n",
       "1                    Affenhuahua                                4   \n",
       "2                  Affenpinscher                                5   \n",
       "3                   Afghan Hound                                5   \n",
       "4                         Akbash                                1   \n",
       "..                           ...                              ...   \n",
       "376  Wirehaired Pointing Griffon                                1   \n",
       "377               Xoloitzcuintli                                5   \n",
       "378               Yakutian Laika                                1   \n",
       "379                     Yorkipoo                                5   \n",
       "380            Yorkshire Terrier                                5   \n",
       "\n",
       "     Good For Novice Owners  Sensitivity Level  Tolerates Being Alone  \\\n",
       "0                         1                  3                      3   \n",
       "1                         4                  4                      1   \n",
       "2                         4                  3                      1   \n",
       "3                         3                  5                      2   \n",
       "4                         2                  3                      4   \n",
       "..                      ...                ...                    ...   \n",
       "376                       3                  4                      1   \n",
       "377                       1                  5                      1   \n",
       "378                       3                  3                      1   \n",
       "379                       5                  4                      3   \n",
       "380                       4                  5                      2   \n",
       "\n",
       "     Tolerates Cold Weather  Tolerates Hot Weather  Affectionate With Family  \\\n",
       "0                         4                      2                         4   \n",
       "1                         2                      3                         4   \n",
       "2                         3                      3                         5   \n",
       "3                         5                      5                         5   \n",
       "4                         4                      2                         5   \n",
       "..                      ...                    ...                       ...   \n",
       "376                       4                      3                         5   \n",
       "377                       3                      3                         5   \n",
       "378                       5                      3                         5   \n",
       "379                       2                      3                         5   \n",
       "380                       2                      2                         4   \n",
       "\n",
       "     Kid-Friendly  Dog Friendly  ...  Energy Level  Intensity  Exercise Needs  \\\n",
       "0               2             3  ...             4          4               4   \n",
       "1               3             2  ...             4          3               3   \n",
       "2               1             4  ...             4          3               3   \n",
       "3               5             4  ...             5          2               4   \n",
       "4               4             3  ...             2          2               2   \n",
       "..            ...           ...  ...           ...        ...             ...   \n",
       "376             5             4  ...             5          3               4   \n",
       "377             3             2  ...             3          3               3   \n",
       "378             4             4  ...             4          3               5   \n",
       "379             4             3  ...             5          3               3   \n",
       "380             2             3  ...             5          4               4   \n",
       "\n",
       "     Potential For Playfulness  groups  Adaptation  Afecttion  \\\n",
       "0                            3       2         2.0        2.0   \n",
       "1                            3       0         3.0        3.0   \n",
       "2                            4       0         3.0        3.0   \n",
       "3                            4       1         4.0        4.0   \n",
       "4                            3       2         3.0        4.0   \n",
       "..                         ...     ...         ...        ...   \n",
       "376                          5       1         3.0        5.0   \n",
       "377                          3       0         3.0        3.0   \n",
       "378                          4       1         3.0        4.0   \n",
       "379                          4       0         4.0        4.0   \n",
       "380                          5       0         3.0        3.0   \n",
       "\n",
       "     Health & Gruming  Trainability  Physical Needs  \n",
       "0                 3.0           4.0             4.0  \n",
       "1                 3.0           3.0             3.0  \n",
       "2                 2.0           3.0             4.0  \n",
       "3                 2.0           3.0             4.0  \n",
       "4                 4.0           2.0             2.0  \n",
       "..                ...           ...             ...  \n",
       "376               2.0           4.0             4.0  \n",
       "377               3.0           4.0             3.0  \n",
       "378               3.0           3.0             4.0  \n",
       "379               2.0           4.0             4.0  \n",
       "380               2.0           3.0             4.0  \n",
       "\n",
       "[381 rows x 33 columns]"
      ]
     },
     "execution_count": 180,
     "metadata": {},
     "output_type": "execute_result"
    }
   ],
   "source": [
    "perretillos"
   ]
  },
  {
   "cell_type": "code",
   "execution_count": 181,
   "id": "74df55b1",
   "metadata": {
    "scrolled": true
   },
   "outputs": [
    {
     "data": {
      "text/plain": [
       "Index(['Name', 'Adapts Well To Apartment Living', 'Good For Novice Owners',\n",
       "       'Sensitivity Level', 'Tolerates Being Alone', 'Tolerates Cold Weather',\n",
       "       'Tolerates Hot Weather', 'Affectionate With Family', 'Kid-Friendly',\n",
       "       'Dog Friendly', 'Friendly Toward Strangers', 'Amount Of Shedding',\n",
       "       'Drooling Potential', 'Easy To Groom', 'General Health',\n",
       "       'Potential For Weight Gain', 'Size', 'Easy To Train', 'Intelligence',\n",
       "       'Potential For Mouthiness', 'Prey Drive', 'Tendency To Bark Or Howl',\n",
       "       'Wanderlust Potential', 'Energy Level', 'Intensity', 'Exercise Needs',\n",
       "       'Potential For Playfulness', 'groups', 'Adaptation', 'Afecttion',\n",
       "       'Health & Gruming', 'Trainability', 'Physical Needs'],\n",
       "      dtype='object')"
      ]
     },
     "execution_count": 181,
     "metadata": {},
     "output_type": "execute_result"
    }
   ],
   "source": [
    "perretillos.columns\n"
   ]
  },
  {
   "cell_type": "code",
   "execution_count": 182,
   "id": "1f9fb7d9",
   "metadata": {},
   "outputs": [],
   "source": [
    "#mirar en los clusters caract fisicas como frio calor y size  Drooling Potential***** Amount Of Shedding**Easy To Groom**General Health,  Potential For Weight Gain"
   ]
  },
  {
   "cell_type": "code",
   "execution_count": 183,
   "id": "5e8a79d5",
   "metadata": {},
   "outputs": [],
   "source": [
    "#Gráficps"
   ]
  },
  {
   "cell_type": "code",
   "execution_count": 184,
   "id": "b19c36fe",
   "metadata": {},
   "outputs": [
    {
     "data": {
      "image/png": "[encoded data removed]",
      "text/plain": [
       "<Figure size 864x432 with 1 Axes>"
      ]
     },
     "metadata": {},
     "output_type": "display_data"
    }
   ],
   "source": [
    "sns.countplot(x=perretillos.groups);"
   ]
  },
  {
   "cell_type": "code",
   "execution_count": 185,
   "id": "586ce60f",
   "metadata": {},
   "outputs": [
    {
     "data": {
      "image/png": "[encoded data removed]",
      "text/plain": [
       "<Figure size 864x432 with 1 Axes>"
      ]
     },
     "metadata": {},
     "output_type": "display_data"
    }
   ],
   "source": [
    "sns.countplot(x=\"groups\", hue=\"Afecttion\", data = perretillos);"
   ]
  },
  {
   "cell_type": "code",
   "execution_count": 186,
   "id": "10866326",
   "metadata": {},
   "outputs": [],
   "source": [
    "# Los grupos más amorosos son  el 0 el 3 y el 5. El más despegado es el 2"
   ]
  },
  {
   "cell_type": "code",
   "execution_count": 187,
   "id": "620cf3ed",
   "metadata": {},
   "outputs": [
    {
     "data": {
      "image/png": "[encoded data removed]",
      "text/plain": [
       "<Figure size 864x432 with 1 Axes>"
      ]
     },
     "metadata": {},
     "output_type": "display_data"
    }
   ],
   "source": [
    "sns.countplot(x=\"groups\", hue=\"Health & Gruming\", data = perretillos);"
   ]
  },
  {
   "cell_type": "code",
   "execution_count": 188,
   "id": "5ce5c67b",
   "metadata": {},
   "outputs": [],
   "source": [
    "#La variable de salud tiene puntuaciones poco dispersas. El grupo, es el más resistente es el 1"
   ]
  },
  {
   "cell_type": "code",
   "execution_count": 189,
   "id": "638fa6e8",
   "metadata": {},
   "outputs": [
    {
     "data": {
      "image/png": "[encoded data removed]",
      "text/plain": [
       "<Figure size 864x432 with 1 Axes>"
      ]
     },
     "metadata": {},
     "output_type": "display_data"
    }
   ],
   "source": [
    "sns.countplot(x=\"groups\", hue=\"Trainability\", data = perretillos);"
   ]
  },
  {
   "cell_type": "code",
   "execution_count": 190,
   "id": "4caa4e6e",
   "metadata": {},
   "outputs": [],
   "source": [
    "#El grupo 0 es el más entrenable"
   ]
  },
  {
   "cell_type": "code",
   "execution_count": 191,
   "id": "d2e8c999",
   "metadata": {},
   "outputs": [
    {
     "data": {
      "image/png": "[encoded data removed]",
      "text/plain": [
       "<Figure size 864x432 with 1 Axes>"
      ]
     },
     "metadata": {},
     "output_type": "display_data"
    }
   ],
   "source": [
    "sns.countplot(x=\"groups\", hue=\"Physical Needs\", data = perretillos);"
   ]
  },
  {
   "cell_type": "code",
   "execution_count": 192,
   "id": "fbc09030",
   "metadata": {},
   "outputs": [],
   "source": [
    "#El grupo 0 tiene claramente más necesidades físicas"
   ]
  },
  {
   "cell_type": "code",
   "execution_count": 193,
   "id": "bc53c924",
   "metadata": {},
   "outputs": [],
   "source": [
    "#Resumen:\n",
    "    # Los grupos más amorosos son  el 0 el 3 y el 5. El más despegado es el 2\n",
    "    #La variable de salud tiene puntuaciones poco dispersas. El grupo, es el más resistente es el 1\n",
    "    #El grupo 0 es el más entrenable\n",
    "    #El grupo 0 tiene claramente más necesidades físicas"
   ]
  },
  {
   "cell_type": "markdown",
   "id": "59b3a202",
   "metadata": {},
   "source": [
    "# vamos a analizar más los grupetes"
   ]
  },
  {
   "cell_type": "code",
   "execution_count": 194,
   "id": "29d69bc2",
   "metadata": {},
   "outputs": [
    {
     "data": {
      "text/plain": [
       "groups\n",
       "0    4.394558\n",
       "1    2.078014\n",
       "2    2.139785\n",
       "Name: Adapts Well To Apartment Living, dtype: float64"
      ]
     },
     "execution_count": 194,
     "metadata": {},
     "output_type": "execute_result"
    }
   ],
   "source": [
    "perretillos.groupby(['groups'])[\"Adapts Well To Apartment Living\"].mean()"
   ]
  },
  {
   "cell_type": "code",
   "execution_count": 196,
   "id": "1225d724",
   "metadata": {},
   "outputs": [],
   "source": [
    "perretillos_0 = perretillos.loc[(perretillos.groups == 0)]\n",
    "perretillos_1 = perretillos.loc[(perretillos.groups == 1)]\n",
    "perretillos_2 = perretillos.loc[(perretillos.groups == 2)]\n"
   ]
  },
  {
   "cell_type": "code",
   "execution_count": 197,
   "id": "9122e01a",
   "metadata": {},
   "outputs": [],
   "source": [
    "resumen = perretillos.columns[28:]"
   ]
  },
  {
   "cell_type": "code",
   "execution_count": 198,
   "id": "e02df753",
   "metadata": {},
   "outputs": [
    {
     "data": {
      "text/plain": [
       "Index(['Adaptation', 'Afecttion', 'Health & Gruming', 'Trainability',\n",
       "       'Physical Needs'],\n",
       "      dtype='object')"
      ]
     },
     "execution_count": 198,
     "metadata": {},
     "output_type": "execute_result"
    }
   ],
   "source": [
    "resumen"
   ]
  },
  {
   "cell_type": "code",
   "execution_count": 199,
   "id": "214cdc8f",
   "metadata": {},
   "outputs": [],
   "source": [
    "perretillos_0_analisis = [ round(perretillos_0[columnassinnombre[0]].mean(),1), round(perretillos_0[columnassinnombre[1]].mean(),1), round(perretillos_0[columnassinnombre[2]].mean(),1), round(perretillos_0[columnassinnombre[3]].mean(),1), round(perretillos_0[columnassinnombre[4]].mean(),1)]"
   ]
  },
  {
   "cell_type": "code",
   "execution_count": 200,
   "id": "550ca826",
   "metadata": {},
   "outputs": [],
   "source": [
    "perretillos_1_analisis = [ round(perretillos_1[columnassinnombre[0]].mean(),1), round(perretillos_1[columnassinnombre[1]].mean(),1), round(perretillos_1[columnassinnombre[2]].mean(),1), round(perretillos_1[columnassinnombre[3]].mean(),1), round(perretillos_1[columnassinnombre[4]].mean(),1)]"
   ]
  },
  {
   "cell_type": "code",
   "execution_count": 201,
   "id": "13c13732",
   "metadata": {},
   "outputs": [],
   "source": [
    "perretillos_2_analisis = [ round(perretillos_2[columnassinnombre[0]].mean(),1), round(perretillos_2[columnassinnombre[1]].mean(),1), round(perretillos_2[columnassinnombre[2]].mean(),1), round(perretillos_2[columnassinnombre[3]].mean(),1), round(perretillos_2[columnassinnombre[4]].mean(),1)]"
   ]
  },
  {
   "cell_type": "code",
   "execution_count": 202,
   "id": "b157a5a3",
   "metadata": {},
   "outputs": [
    {
     "data": {
      "text/plain": [
       "[4.4, 3.7, 3.8, 2.0, 2.8]"
      ]
     },
     "execution_count": 202,
     "metadata": {},
     "output_type": "execute_result"
    }
   ],
   "source": [
    "perretillos_0_analisis"
   ]
  },
  {
   "cell_type": "code",
   "execution_count": 203,
   "id": "27f3df68",
   "metadata": {},
   "outputs": [],
   "source": [
    "resumen_grupos = pd.DataFrame(perretillos_0_analisis, resumen)"
   ]
  },
  {
   "cell_type": "code",
   "execution_count": 204,
   "id": "2a4d0336",
   "metadata": {},
   "outputs": [],
   "source": [
    "resumen_grupos[\"1\"]= (perretillos_1_analisis)"
   ]
  },
  {
   "cell_type": "code",
   "execution_count": 205,
   "id": "383b2d27",
   "metadata": {},
   "outputs": [],
   "source": [
    "resumen_grupos[\"2\"]= (perretillos_2_analisis)\n"
   ]
  },
  {
   "cell_type": "code",
   "execution_count": 206,
   "id": "699a2110",
   "metadata": {},
   "outputs": [
    {
     "data": {
      "text/html": [
       "<div>\n",
       "<style scoped>\n",
       "    .dataframe tbody tr th:only-of-type {\n",
       "        vertical-align: middle;\n",
       "    }\n",
       "\n",
       "    .dataframe tbody tr th {\n",
       "        vertical-align: top;\n",
       "    }\n",
       "\n",
       "    .dataframe thead th {\n",
       "        text-align: right;\n",
       "    }\n",
       "</style>\n",
       "<table border=\"1\" class=\"dataframe\">\n",
       "  <thead>\n",
       "    <tr style=\"text-align: right;\">\n",
       "      <th></th>\n",
       "      <th>0</th>\n",
       "      <th>1</th>\n",
       "      <th>2</th>\n",
       "    </tr>\n",
       "  </thead>\n",
       "  <tbody>\n",
       "    <tr>\n",
       "      <th>Adaptation</th>\n",
       "      <td>4.4</td>\n",
       "      <td>2.1</td>\n",
       "      <td>2.1</td>\n",
       "    </tr>\n",
       "    <tr>\n",
       "      <th>Afecttion</th>\n",
       "      <td>3.7</td>\n",
       "      <td>2.5</td>\n",
       "      <td>1.8</td>\n",
       "    </tr>\n",
       "    <tr>\n",
       "      <th>Health &amp; Gruming</th>\n",
       "      <td>3.8</td>\n",
       "      <td>3.9</td>\n",
       "      <td>3.2</td>\n",
       "    </tr>\n",
       "    <tr>\n",
       "      <th>Trainability</th>\n",
       "      <td>2.0</td>\n",
       "      <td>2.0</td>\n",
       "      <td>2.3</td>\n",
       "    </tr>\n",
       "    <tr>\n",
       "      <th>Physical Needs</th>\n",
       "      <td>2.8</td>\n",
       "      <td>3.6</td>\n",
       "      <td>3.8</td>\n",
       "    </tr>\n",
       "  </tbody>\n",
       "</table>\n",
       "</div>"
      ],
      "text/plain": [
       "                    0    1    2\n",
       "Adaptation        4.4  2.1  2.1\n",
       "Afecttion         3.7  2.5  1.8\n",
       "Health & Gruming  3.8  3.9  3.2\n",
       "Trainability      2.0  2.0  2.3\n",
       "Physical Needs    2.8  3.6  3.8"
      ]
     },
     "execution_count": 206,
     "metadata": {},
     "output_type": "execute_result"
    }
   ],
   "source": [
    "resumen_grupos"
   ]
  },
  {
   "cell_type": "code",
   "execution_count": 75,
   "id": "1b990ed5",
   "metadata": {},
   "outputs": [],
   "source": [
    "lista_0 = []\n",
    "for x in perretillos_0_analisis:\n",
    "    if x<3:\n",
    "        lista_0.append(\"bajo\")\n",
    "    elif x >= 3 and x < 4:\n",
    "        lista_0.append(\"medio\")\n",
    "    else:\n",
    "        lista_0.append(\"alto\")"
   ]
  },
  {
   "cell_type": "code",
   "execution_count": 76,
   "id": "ed0eec7d",
   "metadata": {},
   "outputs": [],
   "source": [
    "lista_1 = []\n",
    "for x in perretillos_1_analisis:\n",
    "    if x<3:\n",
    "        lista_1.append(\"bajo\")\n",
    "    elif x >= 3 and x < 4:\n",
    "        lista_1.append(\"medio\")\n",
    "    else:\n",
    "        lista_1.append(\"alto\")"
   ]
  },
  {
   "cell_type": "code",
   "execution_count": 77,
   "id": "bc3df089",
   "metadata": {},
   "outputs": [],
   "source": [
    "lista_2 = []\n",
    "for x in perretillos_2_analisis:\n",
    "    if x<3:\n",
    "        lista_2.append(\"bajo\")\n",
    "    elif x >= 3 and x < 4:\n",
    "        lista_2.append(\"medio\")\n",
    "    else:\n",
    "        lista_2.append(\"alto\")"
   ]
  },
  {
   "cell_type": "code",
   "execution_count": 243,
   "id": "105e678e",
   "metadata": {},
   "outputs": [],
   "source": [
    "lista_3 = []\n",
    "for x in perretillos_3_analisis:\n",
    "    if x<3:\n",
    "        lista_3.append(\"bajo\")\n",
    "    elif x >= 3 and x < 4:\n",
    "        lista_3.append(\"medio\")\n",
    "    else:\n",
    "        lista_3.append(\"alto\")"
   ]
  },
  {
   "cell_type": "code",
   "execution_count": 244,
   "id": "cf873e4c",
   "metadata": {},
   "outputs": [],
   "source": [
    "lista_4 = []\n",
    "for x in perretillos_4_analisis:\n",
    "    if x<3:\n",
    "        lista_4.append(\"bajo\")\n",
    "    elif x >= 3 and x < 4:\n",
    "        lista_4.append(\"medio\")\n",
    "    else:\n",
    "        lista_4.append(\"alto\")"
   ]
  },
  {
   "cell_type": "code",
   "execution_count": 245,
   "id": "31bf30cd",
   "metadata": {},
   "outputs": [],
   "source": [
    "lista_5 = []\n",
    "for x in perretillos_5_analisis:\n",
    "    if x<3:\n",
    "        lista_5.append(\"bajo\")\n",
    "    elif x >= 3 and x < 4:\n",
    "        lista_5.append(\"medio\")\n",
    "    else:\n",
    "        lista_5.append(\"alto\")"
   ]
  },
  {
   "cell_type": "code",
   "execution_count": 78,
   "id": "0a875132",
   "metadata": {},
   "outputs": [],
   "source": [
    "resumen_cualit = pd.DataFrame(lista_0, resumen)"
   ]
  },
  {
   "cell_type": "code",
   "execution_count": 79,
   "id": "086487c2",
   "metadata": {},
   "outputs": [
    {
     "data": {
      "text/html": [
       "<div>\n",
       "<style scoped>\n",
       "    .dataframe tbody tr th:only-of-type {\n",
       "        vertical-align: middle;\n",
       "    }\n",
       "\n",
       "    .dataframe tbody tr th {\n",
       "        vertical-align: top;\n",
       "    }\n",
       "\n",
       "    .dataframe thead th {\n",
       "        text-align: right;\n",
       "    }\n",
       "</style>\n",
       "<table border=\"1\" class=\"dataframe\">\n",
       "  <thead>\n",
       "    <tr style=\"text-align: right;\">\n",
       "      <th></th>\n",
       "      <th>0</th>\n",
       "    </tr>\n",
       "  </thead>\n",
       "  <tbody>\n",
       "    <tr>\n",
       "      <th>Adaptation</th>\n",
       "      <td>alto</td>\n",
       "    </tr>\n",
       "    <tr>\n",
       "      <th>Afecttion</th>\n",
       "      <td>medio</td>\n",
       "    </tr>\n",
       "    <tr>\n",
       "      <th>Health &amp; Gruming</th>\n",
       "      <td>medio</td>\n",
       "    </tr>\n",
       "    <tr>\n",
       "      <th>Trainability</th>\n",
       "      <td>bajo</td>\n",
       "    </tr>\n",
       "    <tr>\n",
       "      <th>Physical Needs</th>\n",
       "      <td>bajo</td>\n",
       "    </tr>\n",
       "  </tbody>\n",
       "</table>\n",
       "</div>"
      ],
      "text/plain": [
       "                      0\n",
       "Adaptation         alto\n",
       "Afecttion         medio\n",
       "Health & Gruming  medio\n",
       "Trainability       bajo\n",
       "Physical Needs     bajo"
      ]
     },
     "execution_count": 79,
     "metadata": {},
     "output_type": "execute_result"
    }
   ],
   "source": [
    "resumen_cualit"
   ]
  },
  {
   "cell_type": "code",
   "execution_count": 80,
   "id": "7ca38ff0",
   "metadata": {},
   "outputs": [],
   "source": [
    "resumen_cualit[\"1\"]= (lista_1)\n",
    "resumen_cualit[\"2\"]= (lista_2)\n"
   ]
  },
  {
   "cell_type": "code",
   "execution_count": 81,
   "id": "288dc153",
   "metadata": {},
   "outputs": [
    {
     "data": {
      "text/html": [
       "<div>\n",
       "<style scoped>\n",
       "    .dataframe tbody tr th:only-of-type {\n",
       "        vertical-align: middle;\n",
       "    }\n",
       "\n",
       "    .dataframe tbody tr th {\n",
       "        vertical-align: top;\n",
       "    }\n",
       "\n",
       "    .dataframe thead th {\n",
       "        text-align: right;\n",
       "    }\n",
       "</style>\n",
       "<table border=\"1\" class=\"dataframe\">\n",
       "  <thead>\n",
       "    <tr style=\"text-align: right;\">\n",
       "      <th></th>\n",
       "      <th>0</th>\n",
       "      <th>1</th>\n",
       "      <th>2</th>\n",
       "    </tr>\n",
       "  </thead>\n",
       "  <tbody>\n",
       "    <tr>\n",
       "      <th>Adaptation</th>\n",
       "      <td>alto</td>\n",
       "      <td>bajo</td>\n",
       "      <td>bajo</td>\n",
       "    </tr>\n",
       "    <tr>\n",
       "      <th>Afecttion</th>\n",
       "      <td>medio</td>\n",
       "      <td>bajo</td>\n",
       "      <td>bajo</td>\n",
       "    </tr>\n",
       "    <tr>\n",
       "      <th>Health &amp; Gruming</th>\n",
       "      <td>medio</td>\n",
       "      <td>medio</td>\n",
       "      <td>medio</td>\n",
       "    </tr>\n",
       "    <tr>\n",
       "      <th>Trainability</th>\n",
       "      <td>bajo</td>\n",
       "      <td>bajo</td>\n",
       "      <td>bajo</td>\n",
       "    </tr>\n",
       "    <tr>\n",
       "      <th>Physical Needs</th>\n",
       "      <td>bajo</td>\n",
       "      <td>medio</td>\n",
       "      <td>medio</td>\n",
       "    </tr>\n",
       "  </tbody>\n",
       "</table>\n",
       "</div>"
      ],
      "text/plain": [
       "                      0      1      2\n",
       "Adaptation         alto   bajo   bajo\n",
       "Afecttion         medio   bajo   bajo\n",
       "Health & Gruming  medio  medio  medio\n",
       "Trainability       bajo   bajo   bajo\n",
       "Physical Needs     bajo  medio  medio"
      ]
     },
     "execution_count": 81,
     "metadata": {},
     "output_type": "execute_result"
    }
   ],
   "source": [
    "resumen_cualit"
   ]
  }
 ],
 "metadata": {
  "kernelspec": {
   "display_name": "ironhack",
   "language": "python",
   "name": "ironhack"
  },
  "language_info": {
   "codemirror_mode": {
    "name": "ipython",
    "version": 3
   },
   "file_extension": ".py",
   "mimetype": "text/x-python",
   "name": "python",
   "nbconvert_exporter": "python",
   "pygments_lexer": "ipython3",
   "version": "3.8.5"
  }
 },
 "nbformat": 4,
 "nbformat_minor": 5
}
