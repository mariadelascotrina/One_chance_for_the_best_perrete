{
 "cells": [
  {
   "cell_type": "code",
   "execution_count": 1,
   "id": "cb0f0bfb",
   "metadata": {},
   "outputs": [],
   "source": [
    "#Prueba "
   ]
  },
  {
   "cell_type": "code",
   "execution_count": 1,
   "id": "f9484375",
   "metadata": {},
   "outputs": [],
   "source": [
    "from selenium import webdriver\n",
    "from selenium.webdriver.chrome.options import Options\n",
    "import time\n",
    "from selenium.webdriver.support.ui import Select\n",
    "from webdriver_manager.chrome import ChromeDriverManager"
   ]
  },
  {
   "cell_type": "code",
   "execution_count": 6,
   "id": "12196977",
   "metadata": {},
   "outputs": [
    {
     "name": "stderr",
     "output_type": "stream",
     "text": [
      "<ipython-input-6-36bf850864af>:2: DeprecationWarning: executable_path has been deprecated, please pass in a Service object\n",
      "  driver = webdriver.Chrome(driver)\n",
      "<ipython-input-6-36bf850864af>:5: DeprecationWarning: find_element_by_* commands are deprecated. Please use find_element() instead\n",
      "  driver.find_element_by_css_selector(\"#L2AGLb > div\").click()\n",
      "<ipython-input-6-36bf850864af>:6: DeprecationWarning: find_element_by_* commands are deprecated. Please use find_element() instead\n",
      "  driver.find_element_by_css_selector(\"#sbtc > div.SDkEP > div.iblpc > div > span > svg\").click\n",
      "<ipython-input-6-36bf850864af>:7: DeprecationWarning: find_element_by_* commands are deprecated. Please use find_element() instead\n",
      "  driver.find_element_by_css_selector(\"#sbtc > div.SDkEP > div.a4bIc > input\").send_keys(\"husky *.jpg\")\n",
      "<ipython-input-6-36bf850864af>:8: DeprecationWarning: find_element_by_* commands are deprecated. Please use find_element() instead\n",
      "  driver.find_element_by_css_selector(\"#sbtc > button > div > span > svg\").click()\n"
     ]
    }
   ],
   "source": [
    "driver = \"./chromedriver.exe\"\n",
    "driver = webdriver.Chrome(driver)\n",
    "driver.get(\"https://www.google.es/imghp?hl=es&tab=ri&authuser=0&ogbl\")\n",
    "\n",
    "driver.find_element_by_css_selector(\"#L2AGLb > div\").click()\n",
    "driver.find_element_by_css_selector(\"#sbtc > div.SDkEP > div.iblpc > div > span > svg\").click\n",
    "driver.find_element_by_css_selector(\"#sbtc > div.SDkEP > div.a4bIc > input\").send_keys(\"husky *.jpg\")\n",
    "driver.find_element_by_css_selector(\"#sbtc > button > div > span > svg\").click()\n"
   ]
  },
  {
   "cell_type": "code",
   "execution_count": null,
   "id": "aafe19b8",
   "metadata": {},
   "outputs": [],
   "source": []
  },
  {
   "cell_type": "code",
   "execution_count": 7,
   "id": "20471ff6",
   "metadata": {},
   "outputs": [],
   "source": [
    "import requests\n",
    "from bs4 import BeautifulSoup"
   ]
  },
  {
   "cell_type": "code",
   "execution_count": 45,
   "id": "43bc1736",
   "metadata": {},
   "outputs": [],
   "source": [
    "nombre = \"chihuahua\"\n",
    "url = f\"https://www.google.com/search?q={nombre}+*.jpg&tbm=isch&ved=2ahUKEwi2kIjl0uX0AhXG0YUKHVPECi8Q2-cCegQIABAA&oq={nombre}+*.jpg&gs_lcp=CgNpbWcQAzIECAAQHjoHCAAQsQMQQzoECAAQQzoICAAQgAQQsQM6BQgAEIAEUNYCWIUeYIkgaABwAHgAgAFOiAHPA5IBATeYAQCgAQGqAQtnd3Mtd2l6LWltZ8ABAQ&sclient=img&ei=I8q5YfbyFcajlwTTiKv4Ag&bih=475&biw=1098&rlz=1C1VDKB_esES970ES970\"\n",
    " #= \"https://www.google.com/search?q=chihuahua+*.jpg&tbm=isch&ved=2ahUKEwif6e3BwOX0AhWE8IUKHTMnDaIQ2-cCegQIABAA&oq=husky+*.jpg&gs_lcp=CgNpbWcQAzIECAAQHjoHCCMQ7wMQJzoHCAAQsQMQQzoECAAQQzoICAAQgAQQsQNQoQVYgCNg4yZoAHAAeACAAXeIAe0EkgEDNi4xmAEAoAEBqgELZ3dzLXdpei1pbWfAAQE&sclient=img&ei=-ba5Yd-IKoThlwSzzrSQCg&bih=475&biw=1098&rlz=1C1VDKB_esES970ES970\"\n",
    "html = requests.get(url)\n",
    "soup = BeautifulSoup(html.content,\"html.parser\")"
   ]
  },
  {
   "cell_type": "code",
   "execution_count": 46,
   "id": "1e41db7c",
   "metadata": {},
   "outputs": [],
   "source": [
    "tags = soup.find_all(\"img\")"
   ]
  },
  {
   "cell_type": "code",
   "execution_count": 47,
   "id": "217fb27e",
   "metadata": {},
   "outputs": [],
   "source": [
    "hola = [tag[\"src\"] for tag in tags]"
   ]
  },
  {
   "cell_type": "code",
   "execution_count": 49,
   "id": "14f4a8bb",
   "metadata": {},
   "outputs": [
    {
     "data": {
      "text/plain": [
       "'https://encrypted-tbn0.gstatic.com/images?q=tbn:ANd9GcS6vbtFzgBFALUedabON-hcwzNk5witne3turAR6oiO74at4cRj5GQaLhm6tQo&s'"
      ]
     },
     "execution_count": 49,
     "metadata": {},
     "output_type": "execute_result"
    }
   ],
   "source": [
    "hola[1]\n"
   ]
  },
  {
   "cell_type": "code",
   "execution_count": 25,
   "id": "402c4bbf",
   "metadata": {},
   "outputs": [
    {
     "data": {
      "text/plain": [
       "'/images/branding/searchlogo/1x/googlelogo_desk_heirloom_color_150x55dp.gif'"
      ]
     },
     "execution_count": 25,
     "metadata": {},
     "output_type": "execute_result"
    }
   ],
   "source": [
    "tag[0][\"src\"]"
   ]
  },
  {
   "cell_type": "code",
   "execution_count": null,
   "id": "e2647fbb",
   "metadata": {},
   "outputs": [],
   "source": [
    "\"class\": \"bRMDJf islir\"}"
   ]
  }
 ],
 "metadata": {
  "kernelspec": {
   "display_name": "ironhack",
   "language": "python",
   "name": "ironhack"
  },
  "language_info": {
   "codemirror_mode": {
    "name": "ipython",
    "version": 3
   },
   "file_extension": ".py",
   "mimetype": "text/x-python",
   "name": "python",
   "nbconvert_exporter": "python",
   "pygments_lexer": "ipython3",
   "version": "3.8.5"
  }
 },
 "nbformat": 4,
 "nbformat_minor": 5
}
