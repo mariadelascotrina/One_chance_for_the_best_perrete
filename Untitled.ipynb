{
 "cells": [
  {
   "cell_type": "code",
   "execution_count": null,
   "id": "28c46d20",
   "metadata": {},
   "outputs": [],
   "source": [
    "if perros_otro == \"Sí\":\n",
    "        otro = [4,5]\n",
    "    else:\n",
    "        otro = [1,2,3,4,5]        \n",
    "\n",
    "perro = nino[nino['Dog Friendly'].isin([4,5])]\n"
   ]
  }
 ],
 "metadata": {
  "kernelspec": {
   "display_name": "ironhack",
   "language": "python",
   "name": "ironhack"
  },
  "language_info": {
   "codemirror_mode": {
    "name": "ipython",
    "version": 3
   },
   "file_extension": ".py",
   "mimetype": "text/x-python",
   "name": "python",
   "nbconvert_exporter": "python",
   "pygments_lexer": "ipython3",
   "version": "3.8.5"
  }
 },
 "nbformat": 4,
 "nbformat_minor": 5
}
